{
  "nbformat": 4,
  "nbformat_minor": 0,
  "metadata": {
    "colab": {
      "provenance": [],
      "toc_visible": true,
      "authorship_tag": "ABX9TyNjMK/0MZrSA/f6vEp/nrni",
      "include_colab_link": true
    },
    "kernelspec": {
      "name": "python3",
      "display_name": "Python 3"
    },
    "language_info": {
      "name": "python"
    }
  },
  "cells": [
    {
      "cell_type": "markdown",
      "metadata": {
        "id": "view-in-github",
        "colab_type": "text"
      },
      "source": [
        "<a href=\"https://colab.research.google.com/github/Vanessa-Rodrigues-156/TISD/blob/main/dailydialoguetext.ipynb\" target=\"_parent\"><img src=\"https://colab.research.google.com/assets/colab-badge.svg\" alt=\"Open In Colab\"/></a>"
      ]
    },
    {
      "cell_type": "code",
      "execution_count": null,
      "metadata": {
        "colab": {
          "base_uri": "https://localhost:8080/"
        },
        "id": "kTxngwuUADUc",
        "outputId": "1f38ce43-6191-4ecf-e031-87d39ce7b116"
      },
      "outputs": [
        {
          "output_type": "stream",
          "name": "stdout",
          "text": [
            "Cleaned data saved to cleaned_dialogues.txt\n"
          ]
        }
      ],
      "source": [
        "import re\n",
        "\n",
        "# Read the input file\n",
        "def clean_dialogue(file_path, output_path):\n",
        "    with open(file_path, 'r', encoding='utf-8') as f:\n",
        "        data = f.read()\n",
        "\n",
        "    # Remove '__eou__' and replace it with a newline for better readability\n",
        "    cleaned_data = re.sub(r'\\s*__eou__\\s*', '\\n', data.strip())\n",
        "\n",
        "    # Save the cleaned text to a new file\n",
        "    with open(output_path, 'w', encoding='utf-8') as f:\n",
        "        f.write(cleaned_data)\n",
        "\n",
        "    print(f\"Cleaned data saved to {output_path}\")\n",
        "\n",
        "# Example usage\n",
        "# Provide the full path to your file\n",
        "input_file = \"/content/dialogues_text.txt\"\n",
        "output_file = \"cleaned_dialogues.txt\"\n",
        "clean_dialogue(input_file, output_file)"
      ]
    }
  ]
}