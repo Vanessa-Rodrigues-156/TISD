{
  "nbformat": 4,
  "nbformat_minor": 0,
  "metadata": {
    "colab": {
      "provenance": [],
      "toc_visible": true,
      "include_colab_link": true
    },
    "kernelspec": {
      "name": "python3",
      "display_name": "Python 3"
    },
    "language_info": {
      "name": "python"
    }
  },
  "cells": [
    {
      "cell_type": "markdown",
      "metadata": {
        "id": "view-in-github",
        "colab_type": "text"
      },
      "source": [
        "<a href=\"https://colab.research.google.com/github/Vanessa-Rodrigues-156/TISD/blob/main/dailydialoguenewtext.ipynb\" target=\"_parent\"><img src=\"https://colab.research.google.com/assets/colab-badge.svg\" alt=\"Open In Colab\"/></a>"
      ]
    },
    {
      "cell_type": "code",
      "execution_count": 10,
      "metadata": {
        "colab": {
          "base_uri": "https://localhost:8080/"
        },
        "id": "kTxngwuUADUc",
        "outputId": "3785afef-fbfd-4d63-ebda-b255a8d68d3e"
      },
      "outputs": [
        {
          "output_type": "stream",
          "name": "stdout",
          "text": [
            "Cleaned data saved to cleanednewdialogues.txt\n"
          ]
        }
      ],
      "source": [
        "import re\n",
        "\n",
        "# Read the input file\n",
        "def clean_dialogue(file_path, output_path):\n",
        "    with open(file_path, 'r', encoding='utf-8') as f:\n",
        "        data = f.readlines()\n",
        "\n",
        "    # Remove '__eou__' but keep original line breaks and spacing\n",
        "    cleaned_data = [line.replace('__eou__', '').rstrip() + '\\n' for line in data]\n",
        "\n",
        "    # Save the cleaned text to a new file\n",
        "    with open(output_path, 'w', encoding='utf-8') as f:\n",
        "        f.writelines(cleaned_data)\n",
        "\n",
        "    print(f\"Cleaned data saved to {output_path}\")\n",
        "\n",
        "# Example usage\n",
        "# Provide the full path to your file\n",
        "input_file = \"/dialogues_text.txt\"\n",
        "output_file = \"cleanednewdialogues.txt\"\n",
        "clean_dialogue(input_file, output_file)\n"
      ]
    }
  ]
}